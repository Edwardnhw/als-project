{
 "cells": [
  {
   "cell_type": "code",
   "execution_count": 2,
   "id": "initial_id",
   "metadata": {
    "collapsed": true,
    "ExecuteTime": {
     "end_time": "2024-11-28T21:25:23.644308Z",
     "start_time": "2024-11-28T21:25:12.076094Z"
    }
   },
   "outputs": [],
   "source": [
    "import pandas as pd\n",
    "import numpy as np\n",
    "import matplotlib.pyplot as plt\n",
    "from sklearn.model_selection import train_test_split\n",
    "from sklearn.linear_model import LogisticRegression, LinearRegression\n",
    "import torch\n",
    "from transformers import AutoFeatureExtractor, WhisperModel, WhisperProcessor\n",
    "from transformers import pipeline\n",
    "import torchaudio\n",
    "from sklearn.metrics import classification_report, accuracy_score, confusion_matrix, f1_score\n",
    "from sklearn.neural_network import MLPClassifier\n",
    "\n",
    "from torchinfo import summary\n",
    "from sklearn.preprocessing import LabelEncoder, StandardScaler\n"
   ]
  },
  {
   "cell_type": "code",
   "outputs": [
    {
     "data": {
      "text/plain": "torch.Size([1, 1500, 512])"
     },
     "execution_count": 3,
     "metadata": {},
     "output_type": "execute_result"
    }
   ],
   "source": [
    "processor = WhisperProcessor.from_pretrained(\"openai/whisper-base\")\n",
    "model = WhisperModel.from_pretrained(\"openai/whisper-base\")\n",
    "\n",
    "def process_file(file_path):\n",
    "    waveform, sample_rate = torchaudio.load(file_path)\n",
    "    if sample_rate != 16000:\n",
    "        resampler = torchaudio.transforms.Resample(orig_freq=sample_rate, new_freq=16000)\n",
    "        waveform = resampler(waveform)\n",
    "    waveform = torch.mean(waveform, dim=0, keepdim=False)\n",
    "    #waveform = torchaudio.transforms.Vad(sample_rate=16000)(waveform).squeeze(0)\n",
    "    \n",
    "    inputs = processor(waveform, sampling_rate=16000, return_tensors=\"pt\")\n",
    "   \n",
    "    \n",
    "    with torch.no_grad():\n",
    "        encoder_outputs = model.encoder(inputs.input_features).last_hidden_state\n",
    "    #print(encoder_outputs.shape)\n",
    "    return encoder_outputs\n",
    "\n",
    "process_file(\"data/voc-als-data-wav/CT001_phonationE.wav\").shape"
   ],
   "metadata": {
    "collapsed": false,
    "ExecuteTime": {
     "end_time": "2024-11-28T21:25:25.350144Z",
     "start_time": "2024-11-28T21:25:23.646576Z"
    }
   },
   "id": "58c67909fda83f8a",
   "execution_count": 3
  },
  {
   "cell_type": "code",
   "outputs": [
    {
     "name": "stdout",
     "output_type": "stream",
     "text": [
      "['VOC-ALS' 'PD_dataset_2' 'MSA' 'PSP' 'PD_dataset_1' 'PD_dataset_3'\n",
      " 'MINSK' 'Italian']\n",
      "['ALS' 'HC' 'PD' 'MSA' 'PSP']\n",
      "['A' 'E' 'I' 'O' 'U']\n"
     ]
    }
   ],
   "source": [
    "all_df = pd.read_csv(\"edward_uppercase_acoustic_features.csv\", sep=',',  decimal=',')\n",
    "print(all_df['Dataset'].unique())\n",
    "print(all_df['label'].unique())\n",
    "print(all_df['Phoneme'].unique())\n",
    "#all_df = all_df.sample(frac=1).reset_index(drop=True) # shuffle"
   ],
   "metadata": {
    "collapsed": false,
    "ExecuteTime": {
     "end_time": "2024-11-28T21:25:25.480414Z",
     "start_time": "2024-11-28T21:25:25.354458Z"
    }
   },
   "id": "b17aced11a2dceef",
   "execution_count": 4
  },
  {
   "cell_type": "code",
   "outputs": [],
   "source": [
    "files = all_df['voiced_file_path']\n",
    "embeddings = []\n",
    "for file in files:\n",
    "    embeddings.append(process_file(file))\n",
    "embeddings_t = torch.cat(embeddings)"
   ],
   "metadata": {
    "collapsed": false,
    "ExecuteTime": {
     "end_time": "2024-11-28T21:38:42.625250Z",
     "start_time": "2024-11-28T21:25:25.485885Z"
    }
   },
   "id": "44cab836aebe2b2e",
   "execution_count": 5
  },
  {
   "cell_type": "code",
   "outputs": [],
   "source": [
    "all_df['embedding_idx'] = range(len(all_df))"
   ],
   "metadata": {
    "collapsed": false,
    "ExecuteTime": {
     "end_time": "2024-11-28T21:38:42.958868Z",
     "start_time": "2024-11-28T21:38:42.695383Z"
    }
   },
   "id": "5bab3d98ad8eac34",
   "execution_count": 6
  },
  {
   "cell_type": "code",
   "outputs": [
    {
     "name": "stdout",
     "output_type": "stream",
     "text": [
      "              precision    recall  f1-score   support\n",
      "\n",
      "         ALS       0.68      0.67      0.68       187\n",
      "          HC       0.63      0.62      0.63       179\n",
      "         MSA       0.24      0.53      0.33        17\n",
      "          PD       0.74      0.68      0.71       150\n",
      "         PSP       0.50      0.50      0.50        34\n",
      "\n",
      "    accuracy                           0.64       567\n",
      "   macro avg       0.56      0.60      0.57       567\n",
      "weighted avg       0.66      0.64      0.65       567\n"
     ]
    },
    {
     "data": {
      "text/plain": "0.6437389770723104"
     },
     "execution_count": 7,
     "metadata": {},
     "output_type": "execute_result"
    }
   ],
   "source": [
    "def train_df(df,model):\n",
    "    y = df['label']\n",
    "    encoder = LabelEncoder()\n",
    "    y = encoder.fit_transform(y)\n",
    "    subjects = df['subjectID'].unique()\n",
    "    train_subjects, test_subjects = train_test_split(subjects, test_size=0.3, random_state=0)\n",
    "    X = embeddings_t.mean(dim=1).detach().numpy()\n",
    "    X_train, X_test, y_train, y_test = X[df['embedding_idx'][df['subjectID'].isin(train_subjects)]], X[df['embedding_idx'][df['subjectID'].isin(test_subjects)]], y[df['subjectID'].isin(train_subjects)], y[df['subjectID'].isin(test_subjects)]\n",
    "    model.fit(X_train, y_train)\n",
    "    y_pred = model.predict(X_test)\n",
    "    print(classification_report(y_test, y_pred, target_names=encoder.classes_))\n",
    "    return accuracy_score(y_test, y_pred), f1_score(y_test, y_pred, average='weighted'), {\n",
    "        \"X_train\": X_train,\n",
    "        \"X_test\": X_test,\n",
    "        \"y_train\": y_train,\n",
    "        \"y_test\": y_test,\n",
    "        \"encoder\": encoder\n",
    "    }\n",
    "train_df(all_df, LogisticRegression(max_iter=10000, class_weight='balanced'))[0]"
   ],
   "metadata": {
    "collapsed": false,
    "ExecuteTime": {
     "end_time": "2024-11-28T21:39:21.459045Z",
     "start_time": "2024-11-28T21:38:42.975646Z"
    }
   },
   "id": "a4ef2a16b08f6f32",
   "execution_count": 7
  },
  {
   "cell_type": "code",
   "outputs": [],
   "source": [
    "df = all_df[(all_df['Phoneme'] == 'A') & (all_df['label'].isin(['HC', 'ALS']))]"
   ],
   "metadata": {
    "collapsed": false,
    "ExecuteTime": {
     "end_time": "2024-11-28T21:39:21.705703Z",
     "start_time": "2024-11-28T21:39:21.467010Z"
    }
   },
   "id": "c4beb2df6fa9b3c3",
   "execution_count": 8
  },
  {
   "cell_type": "code",
   "outputs": [
    {
     "name": "stdout",
     "output_type": "stream",
     "text": [
      "Phoneme: A, label: ALS\n",
      "              precision    recall  f1-score   support\n",
      "\n",
      "         ALS       0.68      0.65      0.67        46\n",
      "          HC       0.80      0.82      0.81        79\n",
      "\n",
      "    accuracy                           0.76       125\n",
      "   macro avg       0.74      0.74      0.74       125\n",
      "weighted avg       0.76      0.76      0.76       125\n",
      "\n",
      "Phoneme: A, label: PD\n",
      "              precision    recall  f1-score   support\n",
      "\n",
      "          HC       0.69      0.72      0.71        80\n",
      "          PD       0.64      0.60      0.62        65\n",
      "\n",
      "    accuracy                           0.67       145\n",
      "   macro avg       0.66      0.66      0.66       145\n",
      "weighted avg       0.67      0.67      0.67       145\n",
      "\n",
      "Phoneme: A, label: MSA\n",
      "              precision    recall  f1-score   support\n",
      "\n",
      "          HC       0.99      0.90      0.94        82\n",
      "         MSA       0.65      0.94      0.77        16\n",
      "\n",
      "    accuracy                           0.91        98\n",
      "   macro avg       0.82      0.92      0.86        98\n",
      "weighted avg       0.93      0.91      0.91        98\n",
      "\n",
      "Phoneme: A, label: PSP\n",
      "              precision    recall  f1-score   support\n",
      "\n",
      "          HC       1.00      0.89      0.94        87\n",
      "         PSP       0.47      1.00      0.64         9\n",
      "\n",
      "    accuracy                           0.90        96\n",
      "   macro avg       0.74      0.94      0.79        96\n",
      "weighted avg       0.95      0.90      0.91        96\n",
      "\n",
      "Phoneme: E, label: ALS\n",
      "              precision    recall  f1-score   support\n",
      "\n",
      "         ALS       0.73      0.77      0.75        31\n",
      "          HC       0.74      0.69      0.71        29\n",
      "\n",
      "    accuracy                           0.73        60\n",
      "   macro avg       0.73      0.73      0.73        60\n",
      "weighted avg       0.73      0.73      0.73        60\n",
      "\n",
      "Phoneme: E, label: PD\n",
      "              precision    recall  f1-score   support\n",
      "\n",
      "          HC       0.93      0.82      0.87        33\n",
      "          PD       0.62      0.83      0.71        12\n",
      "\n",
      "    accuracy                           0.82        45\n",
      "   macro avg       0.78      0.83      0.79        45\n",
      "weighted avg       0.85      0.82      0.83        45\n",
      "\n",
      "Phoneme: E, label: MSA\n",
      "Phoneme: E, label: PSP\n",
      "Phoneme: I, label: ALS\n",
      "              precision    recall  f1-score   support\n",
      "\n",
      "         ALS       0.73      0.80      0.77        41\n",
      "          HC       0.83      0.77      0.80        52\n",
      "\n",
      "    accuracy                           0.78        93\n",
      "   macro avg       0.78      0.79      0.78        93\n",
      "weighted avg       0.79      0.78      0.79        93\n",
      "\n",
      "Phoneme: I, label: PD\n",
      "              precision    recall  f1-score   support\n",
      "\n",
      "          HC       0.88      0.68      0.77        53\n",
      "          PD       0.59      0.83      0.69        29\n",
      "\n",
      "    accuracy                           0.73        82\n",
      "   macro avg       0.73      0.75      0.73        82\n",
      "weighted avg       0.77      0.73      0.74        82\n",
      "\n",
      "Phoneme: I, label: MSA\n",
      "              precision    recall  f1-score   support\n",
      "\n",
      "          HC       0.98      0.87      0.92        55\n",
      "         MSA       0.56      0.90      0.69        10\n",
      "\n",
      "    accuracy                           0.88        65\n",
      "   macro avg       0.77      0.89      0.81        65\n",
      "weighted avg       0.92      0.88      0.89        65\n",
      "\n",
      "Phoneme: I, label: PSP\n",
      "              precision    recall  f1-score   support\n",
      "\n",
      "          HC       0.92      0.90      0.91        49\n",
      "         PSP       0.67      0.71      0.69        14\n",
      "\n",
      "    accuracy                           0.86        63\n",
      "   macro avg       0.79      0.81      0.80        63\n",
      "weighted avg       0.86      0.86      0.86        63\n",
      "\n",
      "Phoneme: O, label: ALS\n",
      "              precision    recall  f1-score   support\n",
      "\n",
      "         ALS       0.76      0.90      0.82        31\n",
      "          HC       0.87      0.69      0.77        29\n",
      "\n",
      "    accuracy                           0.80        60\n",
      "   macro avg       0.81      0.80      0.80        60\n",
      "weighted avg       0.81      0.80      0.80        60\n",
      "\n",
      "Phoneme: O, label: PD\n",
      "              precision    recall  f1-score   support\n",
      "\n",
      "          HC       0.97      0.91      0.94        33\n",
      "          PD       0.79      0.92      0.85        12\n",
      "\n",
      "    accuracy                           0.91        45\n",
      "   macro avg       0.88      0.91      0.89        45\n",
      "weighted avg       0.92      0.91      0.91        45\n",
      "\n",
      "Phoneme: O, label: MSA\n",
      "Phoneme: O, label: PSP\n",
      "Phoneme: U, label: ALS\n",
      "              precision    recall  f1-score   support\n",
      "\n",
      "         ALS       0.61      0.55      0.58        31\n",
      "          HC       0.56      0.62      0.59        29\n",
      "\n",
      "    accuracy                           0.58        60\n",
      "   macro avg       0.58      0.58      0.58        60\n",
      "weighted avg       0.59      0.58      0.58        60\n",
      "\n",
      "Phoneme: U, label: PD\n",
      "              precision    recall  f1-score   support\n",
      "\n",
      "          HC       0.94      0.94      0.94        33\n",
      "          PD       0.83      0.83      0.83        12\n",
      "\n",
      "    accuracy                           0.91        45\n",
      "   macro avg       0.89      0.89      0.89        45\n",
      "weighted avg       0.91      0.91      0.91        45\n",
      "\n",
      "Phoneme: U, label: MSA\n",
      "Phoneme: U, label: PSP\n"
     ]
    },
    {
     "data": {
      "text/plain": "            A         E         I         O         U\nALS  0.760000  0.733333  0.784946  0.800000  0.583333\nPD   0.668966  0.822222  0.731707  0.911111  0.911111\nMSA  0.908163       NaN  0.876923       NaN       NaN\nPSP  0.895833       NaN  0.857143       NaN       NaN",
      "text/html": "<div>\n<style scoped>\n    .dataframe tbody tr th:only-of-type {\n        vertical-align: middle;\n    }\n\n    .dataframe tbody tr th {\n        vertical-align: top;\n    }\n\n    .dataframe thead th {\n        text-align: right;\n    }\n</style>\n<table border=\"1\" class=\"dataframe\">\n  <thead>\n    <tr style=\"text-align: right;\">\n      <th></th>\n      <th>A</th>\n      <th>E</th>\n      <th>I</th>\n      <th>O</th>\n      <th>U</th>\n    </tr>\n  </thead>\n  <tbody>\n    <tr>\n      <th>ALS</th>\n      <td>0.760000</td>\n      <td>0.733333</td>\n      <td>0.784946</td>\n      <td>0.800000</td>\n      <td>0.583333</td>\n    </tr>\n    <tr>\n      <th>PD</th>\n      <td>0.668966</td>\n      <td>0.822222</td>\n      <td>0.731707</td>\n      <td>0.911111</td>\n      <td>0.911111</td>\n    </tr>\n    <tr>\n      <th>MSA</th>\n      <td>0.908163</td>\n      <td>NaN</td>\n      <td>0.876923</td>\n      <td>NaN</td>\n      <td>NaN</td>\n    </tr>\n    <tr>\n      <th>PSP</th>\n      <td>0.895833</td>\n      <td>NaN</td>\n      <td>0.857143</td>\n      <td>NaN</td>\n      <td>NaN</td>\n    </tr>\n  </tbody>\n</table>\n</div>"
     },
     "execution_count": 31,
     "metadata": {},
     "output_type": "execute_result"
    }
   ],
   "source": [
    "import seaborn as sns\n",
    "\n",
    "def test_model(model):\n",
    "    accuracies = pd.DataFrame(columns=all_df['Phoneme'].unique(), index=all_df['label'].unique(), dtype='float')\n",
    "    f1_scores = pd.DataFrame(columns=all_df['Phoneme'].unique(), index=all_df['label'].unique(), dtype='float')\n",
    "    for phoneme in all_df['Phoneme'].unique():\n",
    "        for label in all_df['label'].unique():\n",
    "            if label == 'HC':\n",
    "                continue\n",
    "            print(f'Phoneme: {phoneme}, label: {label}')\n",
    "            df = all_df[(all_df['Phoneme'] == phoneme) & (all_df['label'].isin(['HC', label]))]\n",
    "            if df['label'].nunique() < 2:\n",
    "                continue\n",
    "            acc, f1, _ = train_df(df, model)\n",
    "            accuracies.loc[label, phoneme] = acc\n",
    "            f1_scores.loc[label, phoneme] = f1\n",
    "    return accuracies, f1_scores\n",
    "            \n",
    "model = LogisticRegression(max_iter=10000, class_weight='balanced')\n",
    "acc, f1s = test_model(model)\n",
    "acc.drop(labels=['HC'], inplace=True)\n",
    "f1s.drop(labels=['HC'], inplace=True)\n",
    "acc"
   ],
   "metadata": {
    "collapsed": false,
    "ExecuteTime": {
     "end_time": "2024-11-28T22:13:07.068767Z",
     "start_time": "2024-11-28T22:13:01.394813Z"
    }
   },
   "id": "117ac706c70194f8",
   "execution_count": 31
  },
  {
   "cell_type": "code",
   "outputs": [
    {
     "data": {
      "text/plain": "<Figure size 640x480 with 2 Axes>",
      "image/png": "[encoded data removed]"
     },
     "metadata": {},
     "output_type": "display_data"
    },
    {
     "data": {
      "text/plain": "<Figure size 640x480 with 2 Axes>",
      "image/png": "[encoded data removed]"
     },
     "metadata": {},
     "output_type": "display_data"
    }
   ],
   "source": [
    "def plot_heatmap(data, title, name):\n",
    "    sns.heatmap(\n",
    "        data.T,\n",
    "        annot=True,\n",
    "        cmap='Blues',\n",
    "        fmt=\".2f\",\n",
    "        linewidths=0.5,\n",
    "        cbar_kws={'label': title},\n",
    "        annot_kws={\"size\": 10},\n",
    "        vmin=0.5,\n",
    "        vmax=1.0,\n",
    "    )\n",
    "    plt.yticks(rotation=0) \n",
    "    #plt.title(title)\n",
    "    plt.savefig(f'plots/Embeddings_{name}.png')\n",
    "    plt.show()\n",
    "    \n",
    "plot_heatmap(acc, 'Accuracy', 'acc_logistic')\n",
    "plot_heatmap(f1s, 'F1 Score', 'f1_logistic')"
   ],
   "metadata": {
    "collapsed": false,
    "ExecuteTime": {
     "end_time": "2024-11-28T22:13:07.484844Z",
     "start_time": "2024-11-28T22:13:07.071832Z"
    }
   },
   "id": "826b1d2005deda4a",
   "execution_count": 32
  },
  {
   "cell_type": "code",
   "outputs": [
    {
     "name": "stdout",
     "output_type": "stream",
     "text": [
      "Phoneme: A, label: ALS\n",
      "              precision    recall  f1-score   support\n",
      "\n",
      "         ALS       0.76      0.28      0.41        46\n",
      "          HC       0.69      0.95      0.80        79\n",
      "\n",
      "    accuracy                           0.70       125\n",
      "   macro avg       0.73      0.62      0.61       125\n",
      "weighted avg       0.72      0.70      0.66       125\n",
      "\n",
      "Phoneme: A, label: PD\n",
      "              precision    recall  f1-score   support\n",
      "\n",
      "          HC       0.72      0.84      0.77        80\n",
      "          PD       0.75      0.60      0.67        65\n",
      "\n",
      "    accuracy                           0.73       145\n",
      "   macro avg       0.74      0.72      0.72       145\n",
      "weighted avg       0.73      0.73      0.73       145\n",
      "\n",
      "Phoneme: A, label: MSA\n",
      "              precision    recall  f1-score   support\n",
      "\n",
      "          HC       0.97      0.95      0.96        82\n",
      "         MSA       0.78      0.88      0.82        16\n",
      "\n",
      "    accuracy                           0.94        98\n",
      "   macro avg       0.88      0.91      0.89        98\n",
      "weighted avg       0.94      0.94      0.94        98\n",
      "\n",
      "Phoneme: A, label: PSP\n",
      "              precision    recall  f1-score   support\n",
      "\n",
      "          HC       1.00      0.93      0.96        87\n",
      "         PSP       0.60      1.00      0.75         9\n",
      "\n",
      "    accuracy                           0.94        96\n",
      "   macro avg       0.80      0.97      0.86        96\n",
      "weighted avg       0.96      0.94      0.94        96\n",
      "\n",
      "Phoneme: E, label: ALS\n",
      "              precision    recall  f1-score   support\n",
      "\n",
      "         ALS       0.67      0.65      0.66        31\n",
      "          HC       0.63      0.66      0.64        29\n",
      "\n",
      "    accuracy                           0.65        60\n",
      "   macro avg       0.65      0.65      0.65        60\n",
      "weighted avg       0.65      0.65      0.65        60\n",
      "\n",
      "Phoneme: E, label: PD\n",
      "              precision    recall  f1-score   support\n",
      "\n",
      "          HC       0.93      0.85      0.89        33\n",
      "          PD       0.67      0.83      0.74        12\n",
      "\n",
      "    accuracy                           0.84        45\n",
      "   macro avg       0.80      0.84      0.81        45\n",
      "weighted avg       0.86      0.84      0.85        45\n",
      "\n",
      "Phoneme: E, label: MSA\n",
      "Phoneme: E, label: PSP\n",
      "Phoneme: I, label: ALS\n",
      "              precision    recall  f1-score   support\n",
      "\n",
      "         ALS       0.74      0.49      0.59        41\n",
      "          HC       0.68      0.87      0.76        52\n",
      "\n",
      "    accuracy                           0.70        93\n",
      "   macro avg       0.71      0.68      0.68        93\n",
      "weighted avg       0.71      0.70      0.69        93\n",
      "\n",
      "Phoneme: I, label: PD\n",
      "              precision    recall  f1-score   support\n",
      "\n",
      "          HC       0.80      0.85      0.83        53\n",
      "          PD       0.69      0.62      0.65        29\n",
      "\n",
      "    accuracy                           0.77        82\n",
      "   macro avg       0.75      0.73      0.74        82\n",
      "weighted avg       0.76      0.77      0.77        82\n",
      "\n",
      "Phoneme: I, label: MSA\n",
      "              precision    recall  f1-score   support\n",
      "\n",
      "          HC       0.98      0.91      0.94        55\n",
      "         MSA       0.64      0.90      0.75        10\n",
      "\n",
      "    accuracy                           0.91        65\n",
      "   macro avg       0.81      0.90      0.85        65\n",
      "weighted avg       0.93      0.91      0.91        65\n",
      "\n",
      "Phoneme: I, label: PSP\n",
      "              precision    recall  f1-score   support\n",
      "\n",
      "          HC       0.87      0.92      0.89        49\n",
      "         PSP       0.64      0.50      0.56        14\n",
      "\n",
      "    accuracy                           0.83        63\n",
      "   macro avg       0.75      0.71      0.73        63\n",
      "weighted avg       0.81      0.83      0.82        63\n",
      "\n",
      "Phoneme: O, label: ALS\n",
      "              precision    recall  f1-score   support\n",
      "\n",
      "         ALS       0.76      0.81      0.78        31\n",
      "          HC       0.78      0.72      0.75        29\n",
      "\n",
      "    accuracy                           0.77        60\n",
      "   macro avg       0.77      0.77      0.77        60\n",
      "weighted avg       0.77      0.77      0.77        60\n",
      "\n",
      "Phoneme: O, label: PD\n",
      "              precision    recall  f1-score   support\n",
      "\n",
      "          HC       1.00      0.91      0.95        33\n",
      "          PD       0.80      1.00      0.89        12\n",
      "\n",
      "    accuracy                           0.93        45\n",
      "   macro avg       0.90      0.95      0.92        45\n",
      "weighted avg       0.95      0.93      0.94        45\n",
      "\n",
      "Phoneme: O, label: MSA\n",
      "Phoneme: O, label: PSP\n",
      "Phoneme: U, label: ALS\n",
      "              precision    recall  f1-score   support\n",
      "\n",
      "         ALS       0.54      0.45      0.49        31\n",
      "          HC       0.50      0.59      0.54        29\n",
      "\n",
      "    accuracy                           0.52        60\n",
      "   macro avg       0.52      0.52      0.52        60\n",
      "weighted avg       0.52      0.52      0.51        60\n",
      "\n",
      "Phoneme: U, label: PD\n",
      "              precision    recall  f1-score   support\n",
      "\n",
      "          HC       0.94      0.94      0.94        33\n",
      "          PD       0.83      0.83      0.83        12\n",
      "\n",
      "    accuracy                           0.91        45\n",
      "   macro avg       0.89      0.89      0.89        45\n",
      "weighted avg       0.91      0.91      0.91        45\n",
      "\n",
      "Phoneme: U, label: MSA\n",
      "Phoneme: U, label: PSP\n"
     ]
    },
    {
     "data": {
      "text/plain": "            A         E         I         O         U\nALS  0.704000  0.650000  0.698925  0.766667  0.516667\nPD   0.731034  0.844444  0.768293  0.933333  0.911111\nMSA  0.938776       NaN  0.907692       NaN       NaN\nPSP  0.937500       NaN  0.825397       NaN       NaN",
      "text/html": "<div>\n<style scoped>\n    .dataframe tbody tr th:only-of-type {\n        vertical-align: middle;\n    }\n\n    .dataframe tbody tr th {\n        vertical-align: top;\n    }\n\n    .dataframe thead th {\n        text-align: right;\n    }\n</style>\n<table border=\"1\" class=\"dataframe\">\n  <thead>\n    <tr style=\"text-align: right;\">\n      <th></th>\n      <th>A</th>\n      <th>E</th>\n      <th>I</th>\n      <th>O</th>\n      <th>U</th>\n    </tr>\n  </thead>\n  <tbody>\n    <tr>\n      <th>ALS</th>\n      <td>0.704000</td>\n      <td>0.650000</td>\n      <td>0.698925</td>\n      <td>0.766667</td>\n      <td>0.516667</td>\n    </tr>\n    <tr>\n      <th>PD</th>\n      <td>0.731034</td>\n      <td>0.844444</td>\n      <td>0.768293</td>\n      <td>0.933333</td>\n      <td>0.911111</td>\n    </tr>\n    <tr>\n      <th>MSA</th>\n      <td>0.938776</td>\n      <td>NaN</td>\n      <td>0.907692</td>\n      <td>NaN</td>\n      <td>NaN</td>\n    </tr>\n    <tr>\n      <th>PSP</th>\n      <td>0.937500</td>\n      <td>NaN</td>\n      <td>0.825397</td>\n      <td>NaN</td>\n      <td>NaN</td>\n    </tr>\n  </tbody>\n</table>\n</div>"
     },
     "execution_count": 33,
     "metadata": {},
     "output_type": "execute_result"
    }
   ],
   "source": [
    "model = MLPClassifier(max_iter=10000, hidden_layer_sizes=(256, 128, 64), activation='relu', alpha=0.01)\n",
    "acc, f1s = test_model(model)\n",
    "acc.drop(labels=['HC'], inplace=True)\n",
    "f1s.drop(labels=['HC'], inplace=True)\n",
    "acc"
   ],
   "metadata": {
    "collapsed": false,
    "ExecuteTime": {
     "end_time": "2024-11-28T22:13:33.106426Z",
     "start_time": "2024-11-28T22:13:07.486676Z"
    }
   },
   "id": "eadbd769128776d0",
   "execution_count": 33
  },
  {
   "cell_type": "code",
   "outputs": [
    {
     "data": {
      "text/plain": "<Figure size 640x480 with 2 Axes>",
      "image/png": "[encoded data removed]"
     },
     "metadata": {},
     "output_type": "display_data"
    },
    {
     "data": {
      "text/plain": "<Figure size 640x480 with 2 Axes>",
      "image/png": "[encoded data removed]"
     },
     "metadata": {},
     "output_type": "display_data"
    }
   ],
   "source": [
    "plot_heatmap(acc, 'Accuracy', 'acc_mlp')\n",
    "plot_heatmap(f1s, 'F1 Score', 'f1_mlp')"
   ],
   "metadata": {
    "collapsed": false,
    "ExecuteTime": {
     "end_time": "2024-11-28T22:13:33.486691Z",
     "start_time": "2024-11-28T22:13:33.111376Z"
    }
   },
   "id": "dfe443cc62124199",
   "execution_count": 34
  },
  {
   "cell_type": "code",
   "outputs": [
    {
     "name": "stdout",
     "output_type": "stream",
     "text": [
      "              precision    recall  f1-score   support\n",
      "\n",
      "         ALS       0.81      0.81      0.81        31\n",
      "          HC       0.60      0.60      0.60        15\n",
      "\n",
      "    accuracy                           0.74        46\n",
      "   macro avg       0.70      0.70      0.70        46\n",
      "weighted avg       0.74      0.74      0.74        46\n",
      "              precision    recall  f1-score   support\n",
      "\n",
      "         ALS       0.63      0.77      0.70        31\n",
      "          HC       0.73      0.58      0.64        33\n",
      "\n",
      "    accuracy                           0.67        64\n",
      "   macro avg       0.68      0.67      0.67        64\n",
      "weighted avg       0.68      0.67      0.67        64\n"
     ]
    }
   ],
   "source": [
    "als_df = all_df[(all_df['Dataset'] == 'VOC-ALS') & (all_df['Phoneme'] == 'I')]\n",
    "model = LogisticRegression(max_iter=10000, class_weight='balanced')\n",
    "acc, f1, info = train_df(als_df, model)\n",
    "test_df = all_df[(all_df['Dataset'] == 'MINSK') & (all_df['Phoneme'] == 'I')]\n",
    "test_y = info['encoder'].transform(test_df['label'])\n",
    "X_test = embeddings_t.mean(dim=1).detach().numpy()[test_df['embedding_idx']]\n",
    "y_pred = model.predict(X_test)\n",
    "print(classification_report(test_y, y_pred, target_names=info['encoder'].classes_))"
   ],
   "metadata": {
    "collapsed": false,
    "ExecuteTime": {
     "end_time": "2024-11-28T22:13:34.952222Z",
     "start_time": "2024-11-28T22:13:33.488543Z"
    }
   },
   "id": "dc65a6274f291505",
   "execution_count": 35
  },
  {
   "cell_type": "code",
   "outputs": [
    {
     "data": {
      "text/plain": "0.03779078937473187"
     },
     "execution_count": 40,
     "metadata": {},
     "output_type": "execute_result"
    }
   ],
   "source": [
    "from sklearn.metrics import mean_squared_error, r2_score\n",
    "\n",
    "def train_df_regress(df,model):\n",
    "    df['Severity'].fillna(0)\n",
    "    y = df['Severity']\n",
    "    subjects = df['subjectID'].unique()\n",
    "    if df.size < 10:\n",
    "        return np.nan, np.nan, None\n",
    "    train_subjects, test_subjects = train_test_split(subjects, test_size=0.3, random_state=0)\n",
    "    X = embeddings_t.mean(dim=1).detach().numpy()\n",
    "    X_train, X_test, y_train, y_test = X[df['embedding_idx'][df['subjectID'].isin(train_subjects)]], X[df['embedding_idx'][df['subjectID'].isin(test_subjects)]], y[df['subjectID'].isin(train_subjects)], y[df['subjectID'].isin(test_subjects)]\n",
    "    model.fit(X_train, y_train)\n",
    "    y_pred = model.predict(X_test)\n",
    "    return mean_squared_error(y_test, y_pred) / len(y_test), r2_score(y_test, y_pred) / len(y_test), {\n",
    "        \"X_train\": X_train,\n",
    "        \"X_test\": X_test,\n",
    "        \"y_train\": y_train,\n",
    "        \"y_test\": y_test,\n",
    "    }\n",
    "train_df_regress(all_df, LinearRegression())[0]"
   ],
   "metadata": {
    "collapsed": false,
    "ExecuteTime": {
     "end_time": "2024-11-28T22:19:48.878076Z",
     "start_time": "2024-11-28T22:19:45.802281Z"
    }
   },
   "id": "86cdd8fa94040d3d",
   "execution_count": 40
  },
  {
   "cell_type": "code",
   "outputs": [
    {
     "name": "stdout",
     "output_type": "stream",
     "text": [
      "Phoneme: A, label: ALS\n",
      "Phoneme: A, label: PD\n"
     ]
    },
    {
     "name": "stderr",
     "output_type": "stream",
     "text": [
      "/tmp/ipykernel_409601/2161487458.py:4: FutureWarning: Downcasting object dtype arrays on .fillna, .ffill, .bfill is deprecated and will change in a future version. Call result.infer_objects(copy=False) instead. To opt-in to the future behavior, set `pd.set_option('future.no_silent_downcasting', True)`\n",
      "  df['Severity'].fillna(0)\n"
     ]
    },
    {
     "name": "stdout",
     "output_type": "stream",
     "text": [
      "Phoneme: A, label: MSA\n"
     ]
    },
    {
     "name": "stderr",
     "output_type": "stream",
     "text": [
      "/tmp/ipykernel_409601/2161487458.py:4: FutureWarning: Downcasting object dtype arrays on .fillna, .ffill, .bfill is deprecated and will change in a future version. Call result.infer_objects(copy=False) instead. To opt-in to the future behavior, set `pd.set_option('future.no_silent_downcasting', True)`\n",
      "  df['Severity'].fillna(0)\n"
     ]
    },
    {
     "name": "stdout",
     "output_type": "stream",
     "text": [
      "Phoneme: A, label: PSP\n"
     ]
    },
    {
     "name": "stderr",
     "output_type": "stream",
     "text": [
      "/tmp/ipykernel_409601/2161487458.py:4: FutureWarning: Downcasting object dtype arrays on .fillna, .ffill, .bfill is deprecated and will change in a future version. Call result.infer_objects(copy=False) instead. To opt-in to the future behavior, set `pd.set_option('future.no_silent_downcasting', True)`\n",
      "  df['Severity'].fillna(0)\n"
     ]
    },
    {
     "name": "stdout",
     "output_type": "stream",
     "text": [
      "Phoneme: E, label: ALS\n",
      "Phoneme: E, label: PD\n"
     ]
    },
    {
     "name": "stderr",
     "output_type": "stream",
     "text": [
      "/tmp/ipykernel_409601/2161487458.py:4: FutureWarning: Downcasting object dtype arrays on .fillna, .ffill, .bfill is deprecated and will change in a future version. Call result.infer_objects(copy=False) instead. To opt-in to the future behavior, set `pd.set_option('future.no_silent_downcasting', True)`\n",
      "  df['Severity'].fillna(0)\n"
     ]
    },
    {
     "name": "stdout",
     "output_type": "stream",
     "text": [
      "Phoneme: E, label: MSA\n",
      "Phoneme: E, label: PSP\n",
      "Phoneme: I, label: ALS\n",
      "Phoneme: I, label: PD\n"
     ]
    },
    {
     "name": "stderr",
     "output_type": "stream",
     "text": [
      "/tmp/ipykernel_409601/2161487458.py:4: FutureWarning: Downcasting object dtype arrays on .fillna, .ffill, .bfill is deprecated and will change in a future version. Call result.infer_objects(copy=False) instead. To opt-in to the future behavior, set `pd.set_option('future.no_silent_downcasting', True)`\n",
      "  df['Severity'].fillna(0)\n"
     ]
    },
    {
     "name": "stdout",
     "output_type": "stream",
     "text": [
      "Phoneme: I, label: MSA\n"
     ]
    },
    {
     "name": "stderr",
     "output_type": "stream",
     "text": [
      "/tmp/ipykernel_409601/2161487458.py:4: FutureWarning: Downcasting object dtype arrays on .fillna, .ffill, .bfill is deprecated and will change in a future version. Call result.infer_objects(copy=False) instead. To opt-in to the future behavior, set `pd.set_option('future.no_silent_downcasting', True)`\n",
      "  df['Severity'].fillna(0)\n"
     ]
    },
    {
     "name": "stdout",
     "output_type": "stream",
     "text": [
      "Phoneme: I, label: PSP\n"
     ]
    },
    {
     "name": "stderr",
     "output_type": "stream",
     "text": [
      "/tmp/ipykernel_409601/2161487458.py:4: FutureWarning: Downcasting object dtype arrays on .fillna, .ffill, .bfill is deprecated and will change in a future version. Call result.infer_objects(copy=False) instead. To opt-in to the future behavior, set `pd.set_option('future.no_silent_downcasting', True)`\n",
      "  df['Severity'].fillna(0)\n"
     ]
    },
    {
     "name": "stdout",
     "output_type": "stream",
     "text": [
      "Phoneme: O, label: ALS\n",
      "Phoneme: O, label: PD\n"
     ]
    },
    {
     "name": "stderr",
     "output_type": "stream",
     "text": [
      "/tmp/ipykernel_409601/2161487458.py:4: FutureWarning: Downcasting object dtype arrays on .fillna, .ffill, .bfill is deprecated and will change in a future version. Call result.infer_objects(copy=False) instead. To opt-in to the future behavior, set `pd.set_option('future.no_silent_downcasting', True)`\n",
      "  df['Severity'].fillna(0)\n"
     ]
    },
    {
     "name": "stdout",
     "output_type": "stream",
     "text": [
      "Phoneme: O, label: MSA\n",
      "Phoneme: O, label: PSP\n",
      "Phoneme: U, label: ALS\n",
      "Phoneme: U, label: PD\n"
     ]
    },
    {
     "name": "stderr",
     "output_type": "stream",
     "text": [
      "/tmp/ipykernel_409601/2161487458.py:4: FutureWarning: Downcasting object dtype arrays on .fillna, .ffill, .bfill is deprecated and will change in a future version. Call result.infer_objects(copy=False) instead. To opt-in to the future behavior, set `pd.set_option('future.no_silent_downcasting', True)`\n",
      "  df['Severity'].fillna(0)\n"
     ]
    },
    {
     "name": "stdout",
     "output_type": "stream",
     "text": [
      "Phoneme: U, label: MSA\n",
      "Phoneme: U, label: PSP\n"
     ]
    },
    {
     "data": {
      "text/plain": "            A         E         I        O         U\nALS  0.378353  0.964406  1.812434  1.50693  1.037575\nPD   0.000000  0.000000  0.000000  0.00000  0.000000\nMSA  0.000000       NaN  0.000000      NaN       NaN\nPSP  0.000000       NaN  0.000000      NaN       NaN",
      "text/html": "<div>\n<style scoped>\n    .dataframe tbody tr th:only-of-type {\n        vertical-align: middle;\n    }\n\n    .dataframe tbody tr th {\n        vertical-align: top;\n    }\n\n    .dataframe thead th {\n        text-align: right;\n    }\n</style>\n<table border=\"1\" class=\"dataframe\">\n  <thead>\n    <tr style=\"text-align: right;\">\n      <th></th>\n      <th>A</th>\n      <th>E</th>\n      <th>I</th>\n      <th>O</th>\n      <th>U</th>\n    </tr>\n  </thead>\n  <tbody>\n    <tr>\n      <th>ALS</th>\n      <td>0.378353</td>\n      <td>0.964406</td>\n      <td>1.812434</td>\n      <td>1.50693</td>\n      <td>1.037575</td>\n    </tr>\n    <tr>\n      <th>PD</th>\n      <td>0.000000</td>\n      <td>0.000000</td>\n      <td>0.000000</td>\n      <td>0.00000</td>\n      <td>0.000000</td>\n    </tr>\n    <tr>\n      <th>MSA</th>\n      <td>0.000000</td>\n      <td>NaN</td>\n      <td>0.000000</td>\n      <td>NaN</td>\n      <td>NaN</td>\n    </tr>\n    <tr>\n      <th>PSP</th>\n      <td>0.000000</td>\n      <td>NaN</td>\n      <td>0.000000</td>\n      <td>NaN</td>\n      <td>NaN</td>\n    </tr>\n  </tbody>\n</table>\n</div>"
     },
     "execution_count": 41,
     "metadata": {},
     "output_type": "execute_result"
    }
   ],
   "source": [
    "\n",
    "def test_model_regress(model):\n",
    "    mses = pd.DataFrame(columns=all_df['Phoneme'].unique(), index=all_df['label'].unique(), dtype='float')\n",
    "    r2s = pd.DataFrame(columns=all_df['Phoneme'].unique(), index=all_df['label'].unique(), dtype='float')\n",
    "    for phoneme in all_df['Phoneme'].unique():\n",
    "        for label in all_df['label'].unique():\n",
    "            if label == 'HC':\n",
    "                continue\n",
    "            print(f'Phoneme: {phoneme}, label: {label}')\n",
    "            df = all_df[(all_df['Phoneme'] == phoneme) & (all_df['label'].isin(['HC', label]))]\n",
    "            if df['label'].nunique() < 2:\n",
    "                continue\n",
    "            ms, r2, _ = train_df_regress(df, model)\n",
    "            mses.loc[label, phoneme] = ms\n",
    "            r2s.loc[label, phoneme] = r2\n",
    "    return mses, r2s\n",
    "            \n",
    "model = LinearRegression()\n",
    "mses, r2s = test_model_regress(model)\n",
    "mses.drop(labels=['HC'], inplace=True)\n",
    "r2s.drop(labels=['HC'], inplace=True)\n",
    "mses"
   ],
   "metadata": {
    "collapsed": false,
    "ExecuteTime": {
     "end_time": "2024-11-28T22:19:54.576793Z",
     "start_time": "2024-11-28T22:19:50.244042Z"
    }
   },
   "id": "f449f882919a87ba",
   "execution_count": 41
  },
  {
   "cell_type": "code",
   "outputs": [],
   "source": [],
   "metadata": {
    "collapsed": false
   },
   "id": "a54c0c8934bafd77"
  }
 ],
 "metadata": {
  "kernelspec": {
   "display_name": "Python 3",
   "language": "python",
   "name": "python3"
  },
  "language_info": {
   "codemirror_mode": {
    "name": "ipython",
    "version": 2
   },
   "file_extension": ".py",
   "mimetype": "text/x-python",
   "name": "python",
   "nbconvert_exporter": "python",
   "pygments_lexer": "ipython2",
   "version": "2.7.6"
  }
 },
 "nbformat": 4,
 "nbformat_minor": 5
}
